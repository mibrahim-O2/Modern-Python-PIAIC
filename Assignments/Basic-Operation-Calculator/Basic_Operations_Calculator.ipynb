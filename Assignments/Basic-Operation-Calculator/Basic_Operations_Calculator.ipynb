{
  "nbformat": 4,
  "nbformat_minor": 0,
  "metadata": {
    "colab": {
      "provenance": []
    },
    "kernelspec": {
      "name": "python3",
      "display_name": "Python 3"
    },
    "language_info": {
      "name": "python"
    }
  },
  "cells": [
    {
      "cell_type": "markdown",
      "source": [
        "---\n",
        "\n",
        "### **Simple Calculator**\n",
        "\n",
        "* Perform **addition, subtraction, multiplication, and division** using Python.\n",
        "* Practice **functions**, **if-elif-else** statements, and **user input**.\n",
        "* Learn how to display results using **f-strings**.\n",
        "* A beginner-friendly exercise to strengthen your understanding of **basic Python operations**.\n",
        "\n",
        "---\n"
      ],
      "metadata": {
        "id": "6yUblQNgo8oo"
      }
    },
    {
      "cell_type": "code",
      "source": [
        "\n",
        "# Functions for operations\n",
        "def add(a, b):\n",
        "    return a + b\n",
        "\n",
        "def subtract(a, b):\n",
        "    return a - b\n",
        "\n",
        "def multiply(a, b):\n",
        "    return a * b\n",
        "\n",
        "def divide(a, b):\n",
        "    if b != 0:\n",
        "        return a / b\n",
        "    else:\n",
        "        return \"⚠️ You can't divide by zero.\"\n",
        "\n",
        "# Main program\n",
        "print(\"Welcome to the Simple Calculator!\")\n",
        "print(\"Let's do some quick math together. Please choose an operation:\")\n",
        "print(\"1️⃣  Addition\")\n",
        "print(\"2️⃣  Subtraction\")\n",
        "print(\"3️⃣  Multiplication\")\n",
        "print(\"4️⃣  Division\")\n",
        "\n",
        "choice = input(\"👉 Enter your choice (1/2/3/4): \")\n",
        "\n",
        "num1 = float(input(\"Enter your first number: \"))\n",
        "num2 = float(input(\"Enter your second number: \"))\n",
        "\n",
        "\n",
        "# Decision making\n",
        "if choice == '1':\n",
        "    print(f\"The sum of {num1} and {num2} is: {add(num1, num2)}\")\n",
        "elif choice == '2':\n",
        "    print(f\"The difference between {num1} and {num2} is: {subtract(num1, num2)}\")\n",
        "elif choice == '3':\n",
        "    print(f\"The product of {num1} and {num2} is: {multiply(num1, num2)}\")\n",
        "elif choice == '4':\n",
        "    print(f\"The result of dividing {num1} by {num2} is: {divide(num1, num2)}\")\n",
        "else:\n",
        "    print(\"That’s not a valid choice. Please restart and pick a number between 1 and 4.\")\n"
      ],
      "metadata": {
        "id": "IXF4G3zwjhpw",
        "colab": {
          "base_uri": "https://localhost:8080/"
        },
        "outputId": "a5aff86b-4788-4115-9446-d1f0ca8806b8"
      },
      "execution_count": 2,
      "outputs": [
        {
          "output_type": "stream",
          "name": "stdout",
          "text": [
            "Welcome to the Simple Calculator!\n",
            "Let's do some quick math together. Please choose an operation:\n",
            "1️⃣  Addition\n",
            "2️⃣  Subtraction\n",
            "3️⃣  Multiplication\n",
            "4️⃣  Division\n",
            "👉 Enter your choice (1/2/3/4): 2\n",
            "Enter your first number: 3\n",
            "Enter your second number: 5\n",
            "The difference between 3.0 and 5.0 is: -2.0\n"
          ]
        }
      ]
    }
  ]
}